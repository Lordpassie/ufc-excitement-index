{
 "cells": [
  {
   "cell_type": "markdown",
   "metadata": {},
   "source": [
    "# UFC Excitement Index: Retrieve Fight Statistics\n",
    "\n",
    "Hi! My name is Josh, and I love the UFC! Below, I am writing some code to get statistics on the UFC, so that I can pick which fights I need to watch."
   ]
  },
  {
   "cell_type": "markdown",
   "metadata": {},
   "source": [
    "## Prepare for Development"
   ]
  },
  {
   "cell_type": "code",
   "execution_count": 1,
   "metadata": {},
   "outputs": [],
   "source": [
    "# import data acquisition packages\n",
    "import requests\n",
    "from bs4 import BeautifulSoup"
   ]
  },
  {
   "cell_type": "markdown",
   "metadata": {},
   "source": [
    "## Retrieve Data"
   ]
  },
  {
   "cell_type": "code",
   "execution_count": 13,
   "metadata": {},
   "outputs": [
    {
     "data": {
      "text/plain": [
       "[]"
      ]
     },
     "execution_count": 13,
     "metadata": {},
     "output_type": "execute_result"
    }
   ],
   "source": [
    "# get html code from ufcstats.com\n",
    "ufc_response_str = requests.get('http://ufcstats.com/statistics/events/completed').text\n",
    "\n",
    "# read as a beautiful soup object\n",
    "ufc_soup = BeautifulSoup(ufc_response_str, 'html.parser')\n",
    "\n",
    "# pulling event table from soup object\n",
    "ufc_event_link_list = ufc_soup.find_all('href')\n",
    "ufc_event_link_list\n"
   ]
  }
 ],
 "metadata": {
  "kernelspec": {
   "display_name": ".venv",
   "language": "python",
   "name": "python3"
  },
  "language_info": {
   "codemirror_mode": {
    "name": "ipython",
    "version": 3
   },
   "file_extension": ".py",
   "mimetype": "text/x-python",
   "name": "python",
   "nbconvert_exporter": "python",
   "pygments_lexer": "ipython3",
   "version": "3.12.0"
  }
 },
 "nbformat": 4,
 "nbformat_minor": 2
}
